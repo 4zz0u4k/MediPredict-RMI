{
 "cells": [
  {
   "cell_type": "code",
   "execution_count": 4,
   "metadata": {},
   "outputs": [],
   "source": [
    "import numpy as np\n",
    "import pandas as pd"
   ]
  },
  {
   "cell_type": "code",
   "execution_count": 8,
   "metadata": {},
   "outputs": [
    {
     "data": {
      "text/plain": [
       "(2111, 17)"
      ]
     },
     "execution_count": 8,
     "metadata": {},
     "output_type": "execute_result"
    }
   ],
   "source": [
    "global_dataset = pd.read_csv('../data/processed/dataset.csv')\n",
    "global_dataset.shape"
   ]
  },
  {
   "cell_type": "code",
   "execution_count": 9,
   "metadata": {},
   "outputs": [
    {
     "data": {
      "text/html": [
       "<div>\n",
       "<style scoped>\n",
       "    .dataframe tbody tr th:only-of-type {\n",
       "        vertical-align: middle;\n",
       "    }\n",
       "\n",
       "    .dataframe tbody tr th {\n",
       "        vertical-align: top;\n",
       "    }\n",
       "\n",
       "    .dataframe thead th {\n",
       "        text-align: right;\n",
       "    }\n",
       "</style>\n",
       "<table border=\"1\" class=\"dataframe\">\n",
       "  <thead>\n",
       "    <tr style=\"text-align: right;\">\n",
       "      <th></th>\n",
       "      <th>Is_Male</th>\n",
       "      <th>Age</th>\n",
       "      <th>Height</th>\n",
       "      <th>Weight</th>\n",
       "      <th>Familial_Overweight_History</th>\n",
       "      <th>High_Caloric_Food</th>\n",
       "      <th>Vegetables_In_Meals</th>\n",
       "      <th>Daily_Main_Meals</th>\n",
       "      <th>Eat_Between_Meals</th>\n",
       "      <th>Smoking</th>\n",
       "      <th>Water_Consumption</th>\n",
       "      <th>Calories_Monitoring</th>\n",
       "      <th>Physical_Activity</th>\n",
       "      <th>Screen_Time</th>\n",
       "      <th>Alcohol_Consumption</th>\n",
       "      <th>Transportation</th>\n",
       "      <th>Obesity_Level</th>\n",
       "    </tr>\n",
       "  </thead>\n",
       "  <tbody>\n",
       "    <tr>\n",
       "      <th>0</th>\n",
       "      <td>False</td>\n",
       "      <td>21.0</td>\n",
       "      <td>1.62</td>\n",
       "      <td>64.0</td>\n",
       "      <td>True</td>\n",
       "      <td>False</td>\n",
       "      <td>2.0</td>\n",
       "      <td>3.0</td>\n",
       "      <td>Sometimes</td>\n",
       "      <td>False</td>\n",
       "      <td>2.0</td>\n",
       "      <td>False</td>\n",
       "      <td>0.0</td>\n",
       "      <td>1.0</td>\n",
       "      <td>No</td>\n",
       "      <td>Public_Transportation</td>\n",
       "      <td>Normal_Weight</td>\n",
       "    </tr>\n",
       "    <tr>\n",
       "      <th>1</th>\n",
       "      <td>False</td>\n",
       "      <td>21.0</td>\n",
       "      <td>1.52</td>\n",
       "      <td>56.0</td>\n",
       "      <td>True</td>\n",
       "      <td>False</td>\n",
       "      <td>3.0</td>\n",
       "      <td>3.0</td>\n",
       "      <td>Sometimes</td>\n",
       "      <td>True</td>\n",
       "      <td>3.0</td>\n",
       "      <td>True</td>\n",
       "      <td>3.0</td>\n",
       "      <td>0.0</td>\n",
       "      <td>Sometimes</td>\n",
       "      <td>Public_Transportation</td>\n",
       "      <td>Normal_Weight</td>\n",
       "    </tr>\n",
       "    <tr>\n",
       "      <th>2</th>\n",
       "      <td>True</td>\n",
       "      <td>23.0</td>\n",
       "      <td>1.80</td>\n",
       "      <td>77.0</td>\n",
       "      <td>True</td>\n",
       "      <td>False</td>\n",
       "      <td>2.0</td>\n",
       "      <td>3.0</td>\n",
       "      <td>Sometimes</td>\n",
       "      <td>False</td>\n",
       "      <td>2.0</td>\n",
       "      <td>False</td>\n",
       "      <td>2.0</td>\n",
       "      <td>1.0</td>\n",
       "      <td>Frequently</td>\n",
       "      <td>Public_Transportation</td>\n",
       "      <td>Normal_Weight</td>\n",
       "    </tr>\n",
       "    <tr>\n",
       "      <th>3</th>\n",
       "      <td>True</td>\n",
       "      <td>27.0</td>\n",
       "      <td>1.80</td>\n",
       "      <td>87.0</td>\n",
       "      <td>False</td>\n",
       "      <td>False</td>\n",
       "      <td>3.0</td>\n",
       "      <td>3.0</td>\n",
       "      <td>Sometimes</td>\n",
       "      <td>False</td>\n",
       "      <td>2.0</td>\n",
       "      <td>False</td>\n",
       "      <td>2.0</td>\n",
       "      <td>0.0</td>\n",
       "      <td>Frequently</td>\n",
       "      <td>Walking</td>\n",
       "      <td>Overweight_Level_I</td>\n",
       "    </tr>\n",
       "    <tr>\n",
       "      <th>4</th>\n",
       "      <td>True</td>\n",
       "      <td>22.0</td>\n",
       "      <td>1.78</td>\n",
       "      <td>89.8</td>\n",
       "      <td>False</td>\n",
       "      <td>False</td>\n",
       "      <td>2.0</td>\n",
       "      <td>1.0</td>\n",
       "      <td>Sometimes</td>\n",
       "      <td>False</td>\n",
       "      <td>2.0</td>\n",
       "      <td>False</td>\n",
       "      <td>0.0</td>\n",
       "      <td>0.0</td>\n",
       "      <td>Sometimes</td>\n",
       "      <td>Public_Transportation</td>\n",
       "      <td>Overweight_Level_II</td>\n",
       "    </tr>\n",
       "  </tbody>\n",
       "</table>\n",
       "</div>"
      ],
      "text/plain": [
       "   Is_Male   Age  Height  Weight  Familial_Overweight_History  \\\n",
       "0    False  21.0    1.62    64.0                         True   \n",
       "1    False  21.0    1.52    56.0                         True   \n",
       "2     True  23.0    1.80    77.0                         True   \n",
       "3     True  27.0    1.80    87.0                        False   \n",
       "4     True  22.0    1.78    89.8                        False   \n",
       "\n",
       "   High_Caloric_Food  Vegetables_In_Meals  Daily_Main_Meals Eat_Between_Meals  \\\n",
       "0              False                  2.0               3.0         Sometimes   \n",
       "1              False                  3.0               3.0         Sometimes   \n",
       "2              False                  2.0               3.0         Sometimes   \n",
       "3              False                  3.0               3.0         Sometimes   \n",
       "4              False                  2.0               1.0         Sometimes   \n",
       "\n",
       "   Smoking  Water_Consumption  Calories_Monitoring  Physical_Activity  \\\n",
       "0    False                2.0                False                0.0   \n",
       "1     True                3.0                 True                3.0   \n",
       "2    False                2.0                False                2.0   \n",
       "3    False                2.0                False                2.0   \n",
       "4    False                2.0                False                0.0   \n",
       "\n",
       "   Screen_Time Alcohol_Consumption         Transportation        Obesity_Level  \n",
       "0          1.0                  No  Public_Transportation        Normal_Weight  \n",
       "1          0.0           Sometimes  Public_Transportation        Normal_Weight  \n",
       "2          1.0          Frequently  Public_Transportation        Normal_Weight  \n",
       "3          0.0          Frequently                Walking   Overweight_Level_I  \n",
       "4          0.0           Sometimes  Public_Transportation  Overweight_Level_II  "
      ]
     },
     "execution_count": 9,
     "metadata": {},
     "output_type": "execute_result"
    }
   ],
   "source": [
    "global_dataset.head()"
   ]
  },
  {
   "cell_type": "code",
   "execution_count": 10,
   "metadata": {},
   "outputs": [],
   "source": [
    "# Shuffle the dataset\n",
    "shuffled_dataset = global_dataset.sample(frac=1, random_state=54847).reset_index(drop=True)"
   ]
  },
  {
   "cell_type": "code",
   "execution_count": 11,
   "metadata": {},
   "outputs": [],
   "source": [
    "# Assuming shuffled_dataset is already defined\n",
    "hospital_datasets_list = [shuffled_dataset.iloc[i*400:(i+1)*400] for i in range(5)]\n",
    "testing_dataset = shuffled_dataset.iloc[2000:]  # The last 111 rows\n",
    "testing_datasets_list = [testing_dataset.iloc[i*20:(i+1)*20] for i in range(5)]\n",
    "# Reset index for each DataFrame (optional)\n",
    "hospital_datasets_list = [df.reset_index(drop=True) for df in hospital_datasets_list]\n",
    "testing_datasets_list = [df.reset_index(drop=True) for df in testing_datasets_list]"
   ]
  },
  {
   "cell_type": "code",
   "execution_count": 12,
   "metadata": {},
   "outputs": [
    {
     "name": "stdout",
     "output_type": "stream",
     "text": [
      "Datasets saved successfully!\n"
     ]
    }
   ],
   "source": [
    "# Save the 5 hospital datasets\n",
    "for i, df in enumerate(hospital_datasets_list):\n",
    "    df.to_csv(f'../data/split/train/hospital_{i+1}.csv', index=False)\n",
    "    \n",
    "for i, df in enumerate(testing_datasets_list):\n",
    "    df.to_csv(f'../data/split/test/hospital_{i+1}.csv', index=False)\n",
    "\n",
    "print(\"Datasets saved successfully!\")"
   ]
  }
 ],
 "metadata": {
  "kernelspec": {
   "display_name": "workspace",
   "language": "python",
   "name": "python3"
  },
  "language_info": {
   "codemirror_mode": {
    "name": "ipython",
    "version": 3
   },
   "file_extension": ".py",
   "mimetype": "text/x-python",
   "name": "python",
   "nbconvert_exporter": "python",
   "pygments_lexer": "ipython3",
   "version": "3.12.7"
  }
 },
 "nbformat": 4,
 "nbformat_minor": 2
}
